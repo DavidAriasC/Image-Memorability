{
  "nbformat": 4,
  "nbformat_minor": 0,
  "metadata": {
    "colab": {
      "provenance": [],
      "collapsed_sections": [],
      "authorship_tag": "ABX9TyP6uDhfWWWE1duX5IkkyotT",
      "include_colab_link": true
    },
    "kernelspec": {
      "name": "python3",
      "display_name": "Python 3"
    },
    "language_info": {
      "name": "python"
    }
  },
  "cells": [
    {
      "cell_type": "markdown",
      "metadata": {
        "id": "view-in-github",
        "colab_type": "text"
      },
      "source": [
        "<a href=\"https://colab.research.google.com/github/esolis14/ImageMemorability/blob/main/project.ipynb\" target=\"_parent\"><img src=\"https://colab.research.google.com/assets/colab-badge.svg\" alt=\"Open In Colab\"/></a>"
      ]
    },
    {
      "cell_type": "code",
      "execution_count": 2,
      "metadata": {
        "colab": {
          "base_uri": "https://localhost:8080/"
        },
        "id": "D0UHCry277pS",
        "outputId": "8f9ec3d8-8c83-4c26-e578-56875594e66a"
      },
      "outputs": [
        {
          "output_type": "stream",
          "name": "stdout",
          "text": [
            "Drive already mounted at /content/drive; to attempt to forcibly remount, call drive.mount(\"/content/drive\", force_remount=True).\n"
          ]
        }
      ],
      "source": [
        "import numpy as np\n",
        "import csv\n",
        "import tensorflow as tf\n",
        "from numpy import mean\n",
        "import matplotlib.pyplot as plt\n",
        "import PIL\n",
        "from numpy import mean\n",
        "from sklearn.impute import SimpleImputer\n",
        "import PIL\n",
        "from tensorflow.keras.utils import load_img, img_to_array, array_to_img\n",
        "from keras import layers, models, optimizers\n",
        "from tensorflow.keras.models import Sequential\n",
        "from tensorflow.keras.layers import *\n",
        "\n",
        "# example of converting an image with the Keras API\n",
        "from tensorflow.keras.utils import load_img, img_to_array\n",
        "\n",
        "from google.colab import drive\n",
        "drive.mount('/content/drive')"
      ]
    },
    {
      "cell_type": "code",
      "source": [
        "def load_split(path):\n",
        "    d={}\n",
        "    for line in open(path,'r'):\n",
        "        split = line.strip().split(' ', 1)\n",
        "        d[split[0]] = split[1]\n",
        "    #print(d)\n",
        "    result = d.items()\n",
        "    data = list(result)\n",
        "    #print(data)\n",
        "    numpyArray = np.array(data)\n",
        "    #print(numpyArray)\n",
        "    return numpyArray\n",
        "\n",
        "def load_image(df):\n",
        "    images = []\n",
        "    j = 0\n",
        "    tamano = len(df)\n",
        "    for i in df:\n",
        "        j = j +1\n",
        "        if j % 100 == 0:\n",
        "            print(str(j)+ \" of \" + str(tamano) + \" images processed\")\n",
        "        img = load_img('/Users/david/powerai-image-memorability/lamem/images/'+str(i)).resize((128,128))\n",
        "        img_array = img_to_array(img)/255\n",
        "        #print(img_array.shape)\n",
        "        images.append(img_array)\n",
        "    return images"
      ],
      "metadata": {
        "id": "6XOmRnj6cpIx"
      },
      "execution_count": 3,
      "outputs": []
    },
    {
      "cell_type": "code",
      "source": [
        "\n",
        "# For some computational limitations I cannot selecto more than aproximately 15000 images at once.\n",
        "# If possible, increase this parameter to 45000\n",
        "filetrain = load_split('/content/drive/MyDrive/IIT/DL/Project/lamem/splits/train_1.txt')[:15000]\n",
        "filetest = load_split('/content/drive/MyDrive/IIT/DL/Project/lamem/splits/test_1.txt')\n",
        "fileval = load_split('/content/drive/MyDrive/IIT/DL/Project/lamem/splits/val_1.txt')[:2000]\n",
        "\n",
        "images_x = load_image([tup[0] for tup in filetrain])\n",
        "labels_y = [tup[1] for tup in filetrain]\n",
        "\n",
        "test_images_x = load_image([tup[0] for tup in filetest])\n",
        "test_labels_y = [tup[1] for tup in filetest]\n",
        "\n",
        "val_images_x = load_image([tup[0] for tup in fileval])\n",
        "val_labels_y = [tup[1] for tup in fileval]\n",
        "\n",
        "x_train= np.array(images_x)\n",
        "y_train= np.array(labels_y)\n",
        "\n",
        "x_test= np.array(test_images_x)\n",
        "y_test= np.array(test_labels_y)\n",
        "\n",
        "x_val= np.array(val_images_x)\n",
        "y_val= np.array(val_labels_y)\n",
        "\n",
        "# We parse the data and center the data\n",
        "imp = SimpleImputer(missing_values=np.NAN, strategy='mean')\n",
        "#x_train = imp.fit_transform(x_train)\n",
        "y_train = imp.fit_transform(y_train.reshape(-1, 1))\n",
        "y_test = imp.fit_transform(y_test.reshape(-1, 1))\n",
        "y_val = imp.fit_transform(y_val.reshape(-1, 1))"
      ],
      "metadata": {
        "colab": {
          "base_uri": "https://localhost:8080/",
          "height": 381
        },
        "id": "q00z7kvIcRD1",
        "outputId": "2464721a-ea70-4f44-af49-7933500b0c79"
      },
      "execution_count": 8,
      "outputs": [
        {
          "output_type": "error",
          "ename": "FileNotFoundError",
          "evalue": "ignored",
          "traceback": [
            "\u001b[0;31m---------------------------------------------------------------------------\u001b[0m",
            "\u001b[0;31mFileNotFoundError\u001b[0m                         Traceback (most recent call last)",
            "\u001b[0;32m<ipython-input-8-a89adef05495>\u001b[0m in \u001b[0;36m<module>\u001b[0;34m\u001b[0m\n\u001b[1;32m      5\u001b[0m \u001b[0mfileval\u001b[0m \u001b[0;34m=\u001b[0m \u001b[0mload_split\u001b[0m\u001b[0;34m(\u001b[0m\u001b[0;34m'/content/drive/MyDrive/IIT/DL/Project/lamem/splits/val_1.txt'\u001b[0m\u001b[0;34m)\u001b[0m\u001b[0;34m[\u001b[0m\u001b[0;34m:\u001b[0m\u001b[0;36m2000\u001b[0m\u001b[0;34m]\u001b[0m\u001b[0;34m\u001b[0m\u001b[0;34m\u001b[0m\u001b[0m\n\u001b[1;32m      6\u001b[0m \u001b[0;34m\u001b[0m\u001b[0m\n\u001b[0;32m----> 7\u001b[0;31m \u001b[0mimages_x\u001b[0m \u001b[0;34m=\u001b[0m \u001b[0mload_image\u001b[0m\u001b[0;34m(\u001b[0m\u001b[0;34m[\u001b[0m\u001b[0mtup\u001b[0m\u001b[0;34m[\u001b[0m\u001b[0;36m0\u001b[0m\u001b[0;34m]\u001b[0m \u001b[0;32mfor\u001b[0m \u001b[0mtup\u001b[0m \u001b[0;32min\u001b[0m \u001b[0mfiletrain\u001b[0m\u001b[0;34m]\u001b[0m\u001b[0;34m)\u001b[0m\u001b[0;34m\u001b[0m\u001b[0;34m\u001b[0m\u001b[0m\n\u001b[0m\u001b[1;32m      8\u001b[0m \u001b[0mlabels_y\u001b[0m \u001b[0;34m=\u001b[0m \u001b[0;34m[\u001b[0m\u001b[0mtup\u001b[0m\u001b[0;34m[\u001b[0m\u001b[0;36m1\u001b[0m\u001b[0;34m]\u001b[0m \u001b[0;32mfor\u001b[0m \u001b[0mtup\u001b[0m \u001b[0;32min\u001b[0m \u001b[0mfiletrain\u001b[0m\u001b[0;34m]\u001b[0m\u001b[0;34m\u001b[0m\u001b[0;34m\u001b[0m\u001b[0m\n\u001b[1;32m      9\u001b[0m \u001b[0;34m\u001b[0m\u001b[0m\n",
            "\u001b[0;32m<ipython-input-3-82a1a3eed12c>\u001b[0m in \u001b[0;36mload_image\u001b[0;34m(df)\u001b[0m\n\u001b[1;32m     20\u001b[0m         \u001b[0;32mif\u001b[0m \u001b[0mj\u001b[0m \u001b[0;34m%\u001b[0m \u001b[0;36m100\u001b[0m \u001b[0;34m==\u001b[0m \u001b[0;36m0\u001b[0m\u001b[0;34m:\u001b[0m\u001b[0;34m\u001b[0m\u001b[0;34m\u001b[0m\u001b[0m\n\u001b[1;32m     21\u001b[0m             \u001b[0mprint\u001b[0m\u001b[0;34m(\u001b[0m\u001b[0mstr\u001b[0m\u001b[0;34m(\u001b[0m\u001b[0mj\u001b[0m\u001b[0;34m)\u001b[0m\u001b[0;34m+\u001b[0m \u001b[0;34m\" of \"\u001b[0m \u001b[0;34m+\u001b[0m \u001b[0mstr\u001b[0m\u001b[0;34m(\u001b[0m\u001b[0mtamano\u001b[0m\u001b[0;34m)\u001b[0m \u001b[0;34m+\u001b[0m \u001b[0;34m\" images processed\"\u001b[0m\u001b[0;34m)\u001b[0m\u001b[0;34m\u001b[0m\u001b[0;34m\u001b[0m\u001b[0m\n\u001b[0;32m---> 22\u001b[0;31m         \u001b[0mimg\u001b[0m \u001b[0;34m=\u001b[0m \u001b[0mload_img\u001b[0m\u001b[0;34m(\u001b[0m\u001b[0;34m'/Users/david/powerai-image-memorability/lamem/images/'\u001b[0m\u001b[0;34m+\u001b[0m\u001b[0mstr\u001b[0m\u001b[0;34m(\u001b[0m\u001b[0mi\u001b[0m\u001b[0;34m)\u001b[0m\u001b[0;34m)\u001b[0m\u001b[0;34m.\u001b[0m\u001b[0mresize\u001b[0m\u001b[0;34m(\u001b[0m\u001b[0;34m(\u001b[0m\u001b[0;36m128\u001b[0m\u001b[0;34m,\u001b[0m\u001b[0;36m128\u001b[0m\u001b[0;34m)\u001b[0m\u001b[0;34m)\u001b[0m\u001b[0;34m\u001b[0m\u001b[0;34m\u001b[0m\u001b[0m\n\u001b[0m\u001b[1;32m     23\u001b[0m         \u001b[0mimg_array\u001b[0m \u001b[0;34m=\u001b[0m \u001b[0mimg_to_array\u001b[0m\u001b[0;34m(\u001b[0m\u001b[0mimg\u001b[0m\u001b[0;34m)\u001b[0m\u001b[0;34m/\u001b[0m\u001b[0;36m255\u001b[0m\u001b[0;34m\u001b[0m\u001b[0;34m\u001b[0m\u001b[0m\n\u001b[1;32m     24\u001b[0m         \u001b[0;31m#print(img_array.shape)\u001b[0m\u001b[0;34m\u001b[0m\u001b[0;34m\u001b[0m\u001b[0;34m\u001b[0m\u001b[0m\n",
            "\u001b[0;32m/usr/local/lib/python3.7/dist-packages/keras/utils/image_utils.py\u001b[0m in \u001b[0;36mload_img\u001b[0;34m(path, grayscale, color_mode, target_size, interpolation, keep_aspect_ratio)\u001b[0m\n\u001b[1;32m    391\u001b[0m     \u001b[0;32mif\u001b[0m \u001b[0misinstance\u001b[0m\u001b[0;34m(\u001b[0m\u001b[0mpath\u001b[0m\u001b[0;34m,\u001b[0m \u001b[0mpathlib\u001b[0m\u001b[0;34m.\u001b[0m\u001b[0mPath\u001b[0m\u001b[0;34m)\u001b[0m\u001b[0;34m:\u001b[0m\u001b[0;34m\u001b[0m\u001b[0;34m\u001b[0m\u001b[0m\n\u001b[1;32m    392\u001b[0m       \u001b[0mpath\u001b[0m \u001b[0;34m=\u001b[0m \u001b[0mstr\u001b[0m\u001b[0;34m(\u001b[0m\u001b[0mpath\u001b[0m\u001b[0;34m.\u001b[0m\u001b[0mresolve\u001b[0m\u001b[0;34m(\u001b[0m\u001b[0;34m)\u001b[0m\u001b[0;34m)\u001b[0m\u001b[0;34m\u001b[0m\u001b[0;34m\u001b[0m\u001b[0m\n\u001b[0;32m--> 393\u001b[0;31m     \u001b[0;32mwith\u001b[0m \u001b[0mopen\u001b[0m\u001b[0;34m(\u001b[0m\u001b[0mpath\u001b[0m\u001b[0;34m,\u001b[0m \u001b[0;34m'rb'\u001b[0m\u001b[0;34m)\u001b[0m \u001b[0;32mas\u001b[0m \u001b[0mf\u001b[0m\u001b[0;34m:\u001b[0m\u001b[0;34m\u001b[0m\u001b[0;34m\u001b[0m\u001b[0m\n\u001b[0m\u001b[1;32m    394\u001b[0m       \u001b[0mimg\u001b[0m \u001b[0;34m=\u001b[0m \u001b[0mpil_image\u001b[0m\u001b[0;34m.\u001b[0m\u001b[0mopen\u001b[0m\u001b[0;34m(\u001b[0m\u001b[0mio\u001b[0m\u001b[0;34m.\u001b[0m\u001b[0mBytesIO\u001b[0m\u001b[0;34m(\u001b[0m\u001b[0mf\u001b[0m\u001b[0;34m.\u001b[0m\u001b[0mread\u001b[0m\u001b[0;34m(\u001b[0m\u001b[0;34m)\u001b[0m\u001b[0;34m)\u001b[0m\u001b[0;34m)\u001b[0m\u001b[0;34m\u001b[0m\u001b[0;34m\u001b[0m\u001b[0m\n\u001b[1;32m    395\u001b[0m   \u001b[0;32melse\u001b[0m\u001b[0;34m:\u001b[0m\u001b[0;34m\u001b[0m\u001b[0;34m\u001b[0m\u001b[0m\n",
            "\u001b[0;31mFileNotFoundError\u001b[0m: [Errno 2] No such file or directory: '/Users/david/powerai-image-memorability/lamem/images/00051110.jpg'"
          ]
        }
      ]
    },
    {
      "cell_type": "code",
      "source": [
        "model = models.Sequential()\n",
        "model.add(Conv2D(96, (11, 11), (4, 4), activation=\"relu\", input_shape=(128, 128, 3)))\n",
        "model.add(MaxPooling2D((3, 3), (2, 2)))\n",
        "model.add(BatchNormalization())\n",
        "model.add(Conv2D(256, (5, 5), activation=\"relu\"))\n",
        "model.add(ZeroPadding2D((2, 2)))\n",
        "model.add(MaxPooling2D((3, 3), (2, 2)))\n",
        "model.add(BatchNormalization())\n",
        "model.add(Conv2D(384, (3, 3), activation=\"relu\"))\n",
        "model.add(ZeroPadding2D((1, 1)))\n",
        "model.add(Conv2D(384, (3, 3), activation=\"relu\"))\n",
        "model.add(ZeroPadding2D((1, 1)))\n",
        "model.add(Conv2D(256, (3, 3), activation=\"relu\"))\n",
        "model.add(ZeroPadding2D((1, 1)))\n",
        "model.add(MaxPooling2D((3, 3), (2, 2)))\n",
        "model.add(GlobalAveragePooling2D())\n",
        "model.add(Dense(4096, activation=\"relu\"))\n",
        "model.add(Dropout(0.5))\n",
        "model.add(Dense(4096, activation=\"relu\"))\n",
        "model.add(Dropout(0.5))\n",
        "model.add(Dense(1))\n",
        "\n",
        "model.summary()\n",
        "\n",
        "#####\n",
        "# Using \"Euclidean Distance\" loss\n",
        "def euclidean_distance_loss(y_true, y_pred):\n",
        "    return tf.math.sqrt(tf.math.reduce_sum(tf.math.square(y_pred - y_true), axis=-1))\n",
        "#####\n",
        "\n",
        "model.compile(\n",
        "    \"adam\", euclidean_distance_loss, metrics=[tf.keras.metrics.MeanAbsoluteError()])"
      ],
      "metadata": {
        "id": "SwpkYtbbdJRU"
      },
      "execution_count": null,
      "outputs": []
    },
    {
      "cell_type": "code",
      "source": [
        "history= model.fit(x_train,\n",
        "                   y_train,\n",
        "                   batch_size=64*8,\n",
        "                   epochs=30,\n",
        "                   verbose=1,\n",
        "                   validation_data=(x_val, y_val),\n",
        "                   workers=8,\n",
        "                   use_multiprocessing=True)"
      ],
      "metadata": {
        "id": "zE_Du1indNNp"
      },
      "execution_count": null,
      "outputs": []
    },
    {
      "cell_type": "code",
      "source": [
        "print(\"Evaluate on test data\")\n",
        "results = model.evaluate(x_test, y_test, batch_size=128)\n",
        "print(\"test loss, test acc:\", results)\n",
        "\n",
        "y_predict = model.predict(x_test[0])"
      ],
      "metadata": {
        "id": "1Z8QzNiedT5A"
      },
      "execution_count": null,
      "outputs": []
    },
    {
      "cell_type": "code",
      "source": [
        "print(history.history.keys())\n",
        "\n",
        "loss = history.history['loss']\n",
        "mean_absolute_error = history.history['mean_absolute_error']\n",
        "val_loss = history.history['val_loss']\n",
        "val_mean_absolute_error = history.history['val_mean_absolute_error']\n",
        "\n",
        "epochs = range(1, len(loss) + 1)\n",
        "\n",
        "\n",
        "# Plot accuracy\n",
        "plt.plot(epochs, loss, 'b', label='Training acc')\n",
        "plt.plot(epochs, val_loss, 'r', label='Validation acc')\n",
        "plt.title('Training and validation accuracy')\n",
        "plt.legend()\n",
        "plt.show()\n",
        "\n",
        "# Plot loss\n",
        "plt.plot(epochs, mean_absolute_error, 'b', label='Training loss')\n",
        "plt.plot(epochs, val_mean_absolute_error, 'r', label='Validation loss')\n",
        "plt.title('Training and validation loss')\n",
        "plt.legend()\n",
        "plt.show()"
      ],
      "metadata": {
        "id": "vzNkBuF7dWqV"
      },
      "execution_count": null,
      "outputs": []
    }
  ]
}